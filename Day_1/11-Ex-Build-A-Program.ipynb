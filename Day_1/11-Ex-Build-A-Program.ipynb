{
 "cells": [
  {
   "cell_type": "markdown",
   "metadata": {},
   "source": [
    "# Exercise: build a simple program (1 h)"
   ]
  },
  {
   "cell_type": "markdown",
   "metadata": {},
   "source": [
    "By doing this exercise you will apply Python basics that we learned today"
   ]
  },
  {
   "cell_type": "markdown",
   "metadata": {},
   "source": [
    "## Task"
   ]
  },
  {
   "cell_type": "markdown",
   "metadata": {},
   "source": [
    "* Write a program to calculate the Oxygen saturation for a whole range of Temperatures and Salinity \n",
    "* To do this, we first need to define two functions. \n",
    "    1) Potential Temperature used in the previous experiment\n",
    "    2) Oxygen saturation\n",
    "    3) We then need to pass the range of Potential Temperature values into the second function (O2.sat)\n",
    "    4) We then need a command to run our functions. The pythonic way is to add the below to bottom lines of our code:\n",
    "            if __name__ == \"__main__\":\n",
    "                main()\n",
    "(see http://stackoverflow.com/questions/4041238/why-use-def-main for explanation) \n",
    "\n",
    "    5) The script will then run any functions within the main() when it is called. "
   ]
  },
  {
   "cell_type": "markdown",
   "metadata": {
    "collapsed": true
   },
   "source": [
    "Below is the equation for calculating the Oxygen saturation in the ocean for different temperatures and salinity. \n",
    "From you previous function, you were able to make it output a single value of the O2.sat for a single temperature and salinity. \n",
    "\n",
    "Now, your task is to build a program that will output all values of O2.sat at temperatures within the range of 5 - 10 oC and Salinity values in the range of 0 - 35 (interval of 1)\n",
    "\n",
    "\n",
    "Hints and tips:\n",
    "\n",
    "    You are required to use two functions - one for potential temperature, and the second for O2.sat. \n",
    "    These functions need to be \"connected\" to one another. \n",
    "    The output of potential temperature needs to be the input for the O2.sat function.    \n",
    "    We need a loop so that we can create a selection of values. \n",
    "    The data then needs to be appended to a new array. \n",
    "    \n"
   ]
  },
  {
   "cell_type": "code",
   "execution_count": null,
   "metadata": {
    "collapsed": true
   },
   "outputs": [],
   "source": [
    "# Here is the python equation for Oxygen saturation in the ocean (Garcia and Gordon, 1992)\n",
    "# We need a library for this, but don't worry about it for now! \n",
    "import numpy as np\n",
    "\n",
    "# Somehow we have to turn the equation into a function we can use. \n",
    "\n",
    "# Currently all these are just variables\n",
    "A0 = 2.00907\n",
    "A1 = 3.22014\n",
    "A2 = 4.05010\n",
    "A3 = 4.94457\n",
    "A4 = -0.256847\n",
    "A5 = 3.88767\n",
    "B0 = -0.00624523\n",
    "B1 = -0.00737614\n",
    "B2 = -0.0103410\n",
    "B3 = -0.00817083\n",
    "C0 = -4.88682*10 to the power of (-7)\n",
    "\n",
    "# The two lines below need input values for them to work. How are you going to 'pass' theese input values to them? \n",
    "Ts = np.log((298.15 - Temperature) / (273.15 + Temperature))\n",
    "O2 = A0 + (A1Ts) + (A2*Ts**2) + (A3 * Ts**3) + (A4 * Ts**4) + (A5 * Ts**5) + Salinity * (B0 + (B1 * Ts) + (B2 * Ts**2) + (B3 * Ts**3)) + (C0 * Salinity**2)\n"
   ]
  },
  {
   "cell_type": "code",
   "execution_count": null,
   "metadata": {
    "collapsed": true
   },
   "outputs": [],
   "source": []
  },
  {
   "cell_type": "markdown",
   "metadata": {
    "collapsed": true
   },
   "source": [
    "# What we want to do is take the potential temperature of the atmosphere as an input, and pass it into the O2.saturation calculation. To do this, we need to use two functions. "
   ]
  },
  {
   "cell_type": "code",
   "execution_count": null,
   "metadata": {
    "collapsed": true
   },
   "outputs": [],
   "source": []
  }
 ],
 "metadata": {
  "anaconda-cloud": {},
  "kernelspec": {
   "display_name": "Python [default]",
   "language": "python",
   "name": "python3"
  },
  "language_info": {
   "codemirror_mode": {
    "name": "ipython",
    "version": 3
   },
   "file_extension": ".py",
   "mimetype": "text/x-python",
   "name": "python",
   "nbconvert_exporter": "python",
   "pygments_lexer": "ipython3",
   "version": "3.5.2"
  }
 },
 "nbformat": 4,
 "nbformat_minor": 1
}
