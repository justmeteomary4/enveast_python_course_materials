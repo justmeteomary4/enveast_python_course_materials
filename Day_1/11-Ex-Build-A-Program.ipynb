{
 "cells": [
  {
   "cell_type": "markdown",
   "metadata": {},
   "source": [
    "# Exercise: build a simple program (1 h)"
   ]
  },
  {
   "cell_type": "markdown",
   "metadata": {},
   "source": [
    "By doing this exercise you will apply Python basics that we learned today"
   ]
  },
  {
   "cell_type": "markdown",
   "metadata": {},
   "source": [
    "## Task"
   ]
  },
  {
   "cell_type": "markdown",
   "metadata": {},
   "source": [
    "* Write a program to calculate the Oxygen saturation for a whole range of Temperatures and Salinity \n",
    "\n"
   ]
  },
  {
   "cell_type": "code",
   "execution_count": null,
   "metadata": {
    "collapsed": true
   },
   "outputs": [],
   "source": [
    "# Below is the equation for calculating the Oxygen saturation in the ocean for different temperatures and salinity. \n",
    "# From you previous function, you were able to make it output a single value of the O2.sat for a \n",
    "# single temperature and salinity. \n",
    "# \n",
    "# Now, your task is to build a program that will output all values of O2.sat at temperatures within the range of 5 - 10 oC \n",
    "# and Salinity values in the range of 0 - 35 (interval of 1)\n"
   ]
  },
  {
   "cell_type": "code",
   "execution_count": null,
   "metadata": {
    "collapsed": true
   },
   "outputs": [],
   "source": [
    "# We need a library for this, but don't worry about it for now! \n",
    "import numpy as np\n",
    "\n",
    "A0 = 2.00907\n",
    "A1 = 3.22014\n",
    "A2 = 4.05010\n",
    "A3 = 4.94457\n",
    "A4 = -0.256847\n",
    "A5 = 3.88767\n",
    "B0 = -0.00624523\n",
    "B1 = -0.00737614\n",
    "B2 = -0.0103410\n",
    "B3 = -0.00817083\n",
    "C0 = -4.88682*10 to the power of (-7)\n",
    "\n",
    "Ts = np.log((298.15 - Temperature) / (273.15 + Temperature))\n",
    "O2 = A0 + (A1Ts) + (A2*Ts**2) + (A3 * Ts**3) + (A4 * Ts**4) + (A5 * Ts**5) + Salinity * (B0 + (B1 * Ts) + (B2 * Ts**2) + (B3 * Ts**3)) + (C0 * Salinity**2)\n"
   ]
  },
  {
   "cell_type": "code",
   "execution_count": null,
   "metadata": {
    "collapsed": true
   },
   "outputs": [],
   "source": []
  },
  {
   "cell_type": "code",
   "execution_count": null,
   "metadata": {
    "collapsed": true
   },
   "outputs": [],
   "source": [
    "# Now we want to use the potential temperature of the atmosphere, and input this as our temperature into the\n",
    "# O2.saturation calculation. "
   ]
  },
  {
   "cell_type": "code",
   "execution_count": null,
   "metadata": {
    "collapsed": true
   },
   "outputs": [],
   "source": []
  }
 ],
 "metadata": {
  "anaconda-cloud": {},
  "kernelspec": {
   "display_name": "Python [default]",
   "language": "python",
   "name": "python3"
  },
  "language_info": {
   "codemirror_mode": {
    "name": "ipython",
    "version": 3
   },
   "file_extension": ".py",
   "mimetype": "text/x-python",
   "name": "python",
   "nbconvert_exporter": "python",
   "pygments_lexer": "ipython3",
   "version": "3.5.2"
  }
 },
 "nbformat": 4,
 "nbformat_minor": 1
}
