{
 "cells": [
  {
   "cell_type": "markdown",
   "metadata": {},
   "source": [
    "# Introduction"
   ]
  },
  {
   "cell_type": "markdown",
   "metadata": {},
   "source": [
    "##  Brief History\n",
    "\n",
    "Guido van Rossum - Benevolent Dictator For Life\n",
    "Created in the late 1980's \n",
    "\n",
    "Python 2.0  into the Naughties \n",
    "A move to transparancy and a community driven language\n",
    "\n",
    "Python 3.0 2008 \n",
    "Update to the 'modern way' of doing things\n",
    "Object-oriented programming\n",
    "\n"
   ]
  },
  {
   "cell_type": "markdown",
   "metadata": {},
   "source": [
    "## Python philosophy\n",
    "\n",
    "Borrow ideas from elsewhere whenever it makes sense.\n",
    "\n",
    "“Things should be as simple as possible, but no simpler.” (Einstein)\n",
    "\n",
    "Do one thing well (The \"UNIX philosophy\").\n",
    "\n",
    "Don’t fret too much about performance--plan to optimize later when needed.\n",
    "\n",
    "Don’t fight the environment and go with the flow.\n",
    "\n",
    "Don’t try for perfection because “good enough” is often just that.\n",
    "\n",
    "(Hence) it’s okay to cut corners sometimes, especially if you can do it right later.\n",
    "\n",
    "http://python-history.blogspot.co.uk/2009/01/pythons-design-philosophy.html"
   ]
  },
  {
   "cell_type": "markdown",
   "metadata": {},
   "source": [
    "## Python applications\n",
    "\n",
    "Atmospheric Science (Met Office)\n",
    "Marine Science (Cefas)\n",
    "\n"
   ]
  },
  {
   "cell_type": "markdown",
   "metadata": {},
   "source": [
    "## Scientific Python stack\n",
    "- [NumPy](http://numpy.org) provides efficient storage and computation for multi-dimensional data arrays.\n",
    "- [SciPy](http://scipy.org) contains a wide array of numerical tools such as numerical integration and interpolation.\n",
    "- [Pandas](http://pandas.pydata.org) provides a DataFrame object along with a powerful set of methods to manipulate, filter, group, and transform data.\n",
    "- [Matplotlib](http://matplotlib.org) provides a useful interface for creation of publication-quality plots and figures."
   ]
  },
  {
   "cell_type": "markdown",
   "metadata": {},
   "source": [
    "To tap into the power of this data science ecosystem, we will spend the first day on becoming familiar with Python language itself."
   ]
  },
  {
   "cell_type": "markdown",
   "metadata": {},
   "source": [
    "## References\n",
    "*A Whirlwind Tour of Python* by Jake VanderPlas (O’Reilly). Copyright 2016 O’Reilly Media, Inc., 978-1-491-96465-1"
   ]
  }
 ],
 "metadata": {
  "anaconda-cloud": {},
  "kernelspec": {
   "display_name": "Python [default]",
   "language": "python",
   "name": "python3"
  },
  "language_info": {
   "codemirror_mode": {
    "name": "ipython",
    "version": 3
   },
   "file_extension": ".py",
   "mimetype": "text/x-python",
   "name": "python",
   "nbconvert_exporter": "python",
   "pygments_lexer": "ipython3",
   "version": "3.5.2"
  }
 },
 "nbformat": 4,
 "nbformat_minor": 1
}
