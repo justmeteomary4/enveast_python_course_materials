{
 "cells": [
  {
   "cell_type": "code",
   "execution_count": null,
   "metadata": {
    "collapsed": true
   },
   "outputs": [],
   "source": [
    "# Loads our libraries\n",
    "import matplotlib.pyplot as plt\n",
    "from mpl_toolkits.basemap import Basemap\n",
    "import numpy as np\n",
    "from netCDF4 import Dataset"
   ]
  },
  {
   "cell_type": "code",
   "execution_count": null,
   "metadata": {
    "collapsed": true
   },
   "outputs": [],
   "source": []
  },
  {
   "cell_type": "code",
   "execution_count": null,
   "metadata": {
    "collapsed": true
   },
   "outputs": [],
   "source": [
    "# Set lat/lon for Basemap"
   ]
  },
  {
   "cell_type": "code",
   "execution_count": null,
   "metadata": {
    "collapsed": true
   },
   "outputs": [],
   "source": [
    "lon1 = -16\n",
    "lon2 = 15\n",
    "lat1 = 47\n",
    "lat2 = 64"
   ]
  },
  {
   "cell_type": "code",
   "execution_count": null,
   "metadata": {
    "collapsed": true
   },
   "outputs": [],
   "source": [
    "# Create our basemap and plot it "
   ]
  },
  {
   "cell_type": "code",
   "execution_count": null,
   "metadata": {
    "collapsed": true
   },
   "outputs": [],
   "source": [
    "m = Basemap(llcrnrlon=lon1,\n",
    "            llcrnrlat=lat1,\n",
    "            urcrnrlon=lon2,\n",
    "            urcrnrlat=lat2,\n",
    "            lat_1=lat1+2./3*(lat2-lat1), lat_2=lat2,\n",
    "            lon_0=0.5*(lon1+lon2),\n",
    "            projection='lcc', resolution='h')\n",
    "fig = plt.figure(figsize=(25,25))\n"
   ]
  },
  {
   "cell_type": "code",
   "execution_count": null,
   "metadata": {
    "collapsed": true
   },
   "outputs": [],
   "source": []
  },
  {
   "cell_type": "code",
   "execution_count": null,
   "metadata": {
    "collapsed": true
   },
   "outputs": [],
   "source": [
    "# Ignore this for now. \n",
    "error = 0"
   ]
  },
  {
   "cell_type": "code",
   "execution_count": null,
   "metadata": {
    "collapsed": true
   },
   "outputs": [],
   "source": []
  },
  {
   "cell_type": "code",
   "execution_count": null,
   "metadata": {
    "collapsed": true
   },
   "outputs": [],
   "source": [
    "# Loop through and load datasets and plot each on the same map\n",
    "for i in range(x)):\n",
    "                # Is 'x' meant to be there?"
   ]
  },
  {
   "cell_type": "code",
   "execution_count": null,
   "metadata": {
    "collapsed": true
   },
   "outputs": [],
   "source": [
    "# 'try' tests to see if it works, and continues it true. \n",
    "# if 'try' is false, the code goes onto 'except' and continues \n",
    "# from there - great to make sure your code works! \n",
    "    try:"
   ]
  },
  {
   "cell_type": "code",
   "execution_count": null,
   "metadata": {
    "collapsed": true
   },
   "outputs": [],
   "source": [
    "# 'if' is a statement that when the condition is met (true), \n",
    "# the code continues. If 'if' is not true, then the code will \n",
    "# continue to run with an 'else' statement. \n",
    "        if netdata is not None:\n",
    "                        # 'is not None' = there is data (double negative\n",
    "                        # in this context. \n",
    "            particle_data = Dataset(netdata + str(i) + '.nc','r')\n",
    "                                            # str = string\n",
    "                                            # i = loop number aka, 1,2,3...\n",
    "                                            # This loaded multiple datasets\n",
    "            print(particle_data)\n",
    "            \n",
    "            ## Load the data\n",
    "            particles = particle_data.dimensions['nps']\n",
    "            time = particle_data.variables['time'][:]\n",
    "            lat = particle_data.variables['ipos'][:]\n",
    "            lon = particle_data.variables['jpos'][:]\n",
    "            age = particle_data.variables['wfact'][:]\n",
    "            \n",
    "            print (\"Length of particles: \", len(particles))\n",
    "        # A loop to plot as many particles as you desire. \n",
    "        # Try and plot them all.\n",
    "        # Follow where parts goes to and work out what it means. \n",
    "        # You can uncomment the print statment for help. \n",
    "            for parts in range(0,X):\n",
    "                #print (parts)\n",
    "                \n",
    "                # Set 'x, y' onto our map 'm' for all positions ':' and every particles 'parts'\n",
    "                x, y = m(lat[:, parts], lon[:, parts])\n",
    "                # Map scatter plot using the above 'x, y' data we just made. \n",
    "                # How about you set the colour using 'c-' to a new variable, lets say time? \n",
    "                cs = m.scatter(x, y, edgecolors='', alpha= 0.01)\n",
    "       \n",
    "        else: \n",
    "            # This is the 'else' statement that is called if 'if' is false. \n",
    "           \n",
    "            print(\"Your are missing something... Strike \", error)\n",
    "            # This is to help you out. \n",
    "            error = error + 1 \n",
    "            if error == 3: \n",
    "                print(\"Have you loaded the correct data file?\")"
   ]
  },
  {
   "cell_type": "code",
   "execution_count": null,
   "metadata": {
    "collapsed": true
   },
   "outputs": [],
   "source": [
    "# Hopefully you can remeber these\n",
    "m.drawcoastlines()\n",
    "m.drawparallels(np.arange(0,81,1))\n",
    "m.drawmeridians(np.arange(-180,181,1))\n",
    "plt.title('Particle Age Field')\n",
    "plt.show()"
   ]
  },
  {
   "cell_type": "code",
   "execution_count": null,
   "metadata": {
    "collapsed": true
   },
   "outputs": [],
   "source": []
  },
  {
   "cell_type": "code",
   "execution_count": null,
   "metadata": {
    "collapsed": true
   },
   "outputs": [],
   "source": []
  },
  {
   "cell_type": "code",
   "execution_count": null,
   "metadata": {
    "collapsed": true
   },
   "outputs": [],
   "source": []
  },
  {
   "cell_type": "code",
   "execution_count": null,
   "metadata": {
    "collapsed": true
   },
   "outputs": [],
   "source": []
  },
  {
   "cell_type": "code",
   "execution_count": null,
   "metadata": {
    "collapsed": true
   },
   "outputs": [],
   "source": []
  },
  {
   "cell_type": "code",
   "execution_count": null,
   "metadata": {
    "collapsed": true
   },
   "outputs": [],
   "source": []
  },
  {
   "cell_type": "code",
   "execution_count": null,
   "metadata": {
    "collapsed": true
   },
   "outputs": [],
   "source": []
  },
  {
   "cell_type": "code",
   "execution_count": null,
   "metadata": {
    "collapsed": true
   },
   "outputs": [],
   "source": []
  },
  {
   "cell_type": "code",
   "execution_count": null,
   "metadata": {
    "collapsed": true
   },
   "outputs": [],
   "source": []
  },
  {
   "cell_type": "code",
   "execution_count": null,
   "metadata": {
    "collapsed": true
   },
   "outputs": [],
   "source": []
  },
  {
   "cell_type": "code",
   "execution_count": null,
   "metadata": {
    "collapsed": true
   },
   "outputs": [],
   "source": []
  },
  {
   "cell_type": "code",
   "execution_count": null,
   "metadata": {
    "collapsed": true
   },
   "outputs": [],
   "source": []
  },
  {
   "cell_type": "code",
   "execution_count": null,
   "metadata": {
    "collapsed": true
   },
   "outputs": [],
   "source": []
  },
  {
   "cell_type": "code",
   "execution_count": null,
   "metadata": {
    "collapsed": true
   },
   "outputs": [],
   "source": []
  }
 ],
 "metadata": {
  "anaconda-cloud": {},
  "kernelspec": {
   "display_name": "Python [default]",
   "language": "python",
   "name": "python3"
  },
  "language_info": {
   "codemirror_mode": {
    "name": "ipython",
    "version": 3
   },
   "file_extension": ".py",
   "mimetype": "text/x-python",
   "name": "python",
   "nbconvert_exporter": "python",
   "pygments_lexer": "ipython3",
   "version": "3.5.2"
  }
 },
 "nbformat": 4,
 "nbformat_minor": 1
}
