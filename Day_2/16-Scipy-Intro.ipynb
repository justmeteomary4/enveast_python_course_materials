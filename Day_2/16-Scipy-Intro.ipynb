{
 "cells": [
  {
   "cell_type": "markdown",
   "metadata": {},
   "source": [
    "# Time to add SciPy to our toolbox"
   ]
  },
  {
   "cell_type": "markdown",
   "metadata": {},
   "source": [
    "In this session you will learn some of the functions available in SciPy package."
   ]
  },
  {
   "cell_type": "markdown",
   "metadata": {},
   "source": [
    "### What is SciPy?\n",
    "\n",
    "General purpose scientific library (that consist of bunch of sublibraries) and builds on NumPy arrays. It consists of several submodules:\n",
    "\n",
    "* Special functions (`scipy.special`)\n",
    "* Integration (`scipy.integrate`)\n",
    "* Optimization (`scipy.optimize`)\n",
    "* Interpolation (`scipy.interpolate`)\n",
    "* Fourier Transforms (`scipy.fftpack`)\n",
    "* Signal Processing (`scipy.signal`)\n",
    "* Linear Algebra (`scipy.linalg`)\n",
    "* Sparse Eigenvalue Problems (`scipy.sparse`)\n",
    "* Statistics (`scipy.stats`)\n",
    "* Multi-dimensional image processing (`scipy.ndimage`)\n",
    "* File IO (`scipy.io`)\n",
    "\n",
    "See [full documentation](https://docs.scipy.org/doc/scipy/reference/index.html)."
   ]
  },
  {
   "cell_type": "markdown",
   "metadata": {},
   "source": [
    "## Exercise 1"
   ]
  },
  {
   "cell_type": "markdown",
   "metadata": {},
   "source": [
    "In the first exercise you are blending numpy, scipy and matplotlib together."
   ]
  },
  {
   "cell_type": "markdown",
   "metadata": {},
   "source": [
    "### Task\n",
    "* Read synoptic observations from a binary file (numpy)\n",
    "* Interpolate them on a regular grid over Europe (scipy)\n",
    "* Plot the result (matplotlib)"
   ]
  },
  {
   "cell_type": "markdown",
   "metadata": {},
   "source": [
    "#### Load all the necessary modules"
   ]
  },
  {
   "cell_type": "code",
   "execution_count": 1,
   "metadata": {
    "collapsed": false
   },
   "outputs": [],
   "source": [
    "# import os\n",
    "# import numpy as np\n",
    "# import matplotlib.pyplot as plt\n",
    "# from scipy import interpolate  # import submodule for interpolation and regridding\n",
    "## make figures appear within the notebook\n",
    "# %matplotlib inline"
   ]
  },
  {
   "cell_type": "markdown",
   "metadata": {},
   "source": [
    "#### Read data from a binary file"
   ]
  },
  {
   "cell_type": "markdown",
   "metadata": {},
   "source": [
    "Define a file name:"
   ]
  },
  {
   "cell_type": "code",
   "execution_count": 2,
   "metadata": {
    "collapsed": true
   },
   "outputs": [],
   "source": [
    "## code is ready here, just uncomment\n",
    "#\n",
    "# file_name = os.path.join(os.path.pardir, 'data',\n",
    "#                          'surface_synoptic_20161109_0000_lon_lat_temperature_17097.bin')"
   ]
  },
  {
   "cell_type": "markdown",
   "metadata": {},
   "source": [
    "Now use [`numpy.fromfile()`](https://docs.scipy.org/doc/numpy/reference/generated/numpy.fromfile.html) function to read data. \n",
    "\n",
    "Side note: If it was an unformatted sequential binary file from Fortran code, you could have used [`scipy.io.FortranFile`](https://docs.scipy.org/doc/scipy/reference/generated/scipy.io.FortranFile.html#scipy.io.FortranFile)."
   ]
  },
  {
   "cell_type": "markdown",
   "metadata": {},
   "source": [
    "**Important:**\n",
    "* the binary file contains only the data itself\n",
    "* the data array contains values of **longitude**, **latitude** and **air temperature**\n",
    "* these data are from **17097** stations\n",
    "* data are saved in **single precision float** format"
   ]
  },
  {
   "cell_type": "code",
   "execution_count": 3,
   "metadata": {
    "collapsed": true
   },
   "outputs": [],
   "source": [
    "# nrec = 17097"
   ]
  },
  {
   "cell_type": "code",
   "execution_count": 4,
   "metadata": {
    "collapsed": true
   },
   "outputs": [],
   "source": [
    "# bin_data = np.fromfile( ..., dtype=...)"
   ]
  },
  {
   "cell_type": "markdown",
   "metadata": {},
   "source": [
    "* Check the type and length of `bin_data`. Is this what you expected?\n",
    "* How will you slice this array into coordinates and data values?"
   ]
  },
  {
   "cell_type": "code",
   "execution_count": 5,
   "metadata": {
    "collapsed": true
   },
   "outputs": [],
   "source": [
    "# lons = bin_data[:nrec]\n",
    "# lats = \n",
    "# temp = "
   ]
  },
  {
   "cell_type": "markdown",
   "metadata": {},
   "source": [
    "You can now quickly plot the data, for example using `matplotlib.pyplot.scatter` function. Otherwise, skip the next cell."
   ]
  },
  {
   "cell_type": "code",
   "execution_count": 6,
   "metadata": {
    "collapsed": false,
    "scrolled": false
   },
   "outputs": [],
   "source": [
    "# plt.scatter(lons, lats, c=temp)"
   ]
  },
  {
   "cell_type": "markdown",
   "metadata": {},
   "source": [
    "#### Subset the data"
   ]
  },
  {
   "cell_type": "markdown",
   "metadata": {},
   "source": [
    "The next step is to grid the observations onto a rectangular grid. Due to data sparsity over some regions, you can create a smaller sample first, e.g. just over Europe. You can loosely define the Europe region within 10W and 60E longitude and within 35N and 70N latitude. Then you can create a \"condition\" to subset the original data."
   ]
  },
  {
   "cell_type": "code",
   "execution_count": 7,
   "metadata": {
    "collapsed": false
   },
   "outputs": [],
   "source": [
    "# sub_idx = (lons > ...) & (lons < 60) & (lats > ...) & (lats < ...)  # indices over \"Europe\""
   ]
  },
  {
   "cell_type": "markdown",
   "metadata": {},
   "source": [
    "Check that subset works."
   ]
  },
  {
   "cell_type": "code",
   "execution_count": 8,
   "metadata": {
    "collapsed": true
   },
   "outputs": [],
   "source": [
    "# print('Original shape: {}'.format(lons.shape))\n",
    "# print('Subset shape: {}'.format(lons[sub_idx].shape))"
   ]
  },
  {
   "cell_type": "markdown",
   "metadata": {},
   "source": [
    "#### Define a rectangular grid with constant step"
   ]
  },
  {
   "cell_type": "code",
   "execution_count": 9,
   "metadata": {
    "collapsed": true
   },
   "outputs": [],
   "source": [
    "# lon_step = \n",
    "# lat_step = \n",
    "# lon1d = np.arange(-10, 60.1, lon_step)\n",
    "# lat1d = np.arange(35, 70.1, lat_step)\n",
    "# lon2d, lat2d = np.meshgrid(lon1d, lat1d)"
   ]
  },
  {
   "cell_type": "markdown",
   "metadata": {},
   "source": [
    "* For the interpolation you can use [`scipy.interpolate.griddata`](https://docs.scipy.org/doc/scipy/reference/generated/scipy.interpolate.griddata.html) function.\n",
    "* Read its docstring and complete the next code cell with the correct arguments.\n",
    "* Which interpolation method would you use?\n",
    "* Don't forget to use `sub_idx`! (Hint: it should go to xpoints, ypoints and values)\n",
    "* Feel free to explore the `scipy.interpolate` submodule for other interpolation options."
   ]
  },
  {
   "cell_type": "code",
   "execution_count": 10,
   "metadata": {
    "collapsed": false
   },
   "outputs": [],
   "source": [
    "# temp_grd_lin = interpolate.griddata((xpoints, ypoints), values, xi, method='linear')[source]"
   ]
  },
  {
   "cell_type": "markdown",
   "metadata": {},
   "source": [
    "* How about other methods?\n",
    "* Try nearest or cubic"
   ]
  },
  {
   "cell_type": "code",
   "execution_count": 11,
   "metadata": {
    "collapsed": false
   },
   "outputs": [],
   "source": [
    "# temp_grd_near = interpolate.griddata( ... )\n",
    "# temp_grd_cub = interpolate.griddata( ... )"
   ]
  },
  {
   "cell_type": "markdown",
   "metadata": {},
   "source": [
    "#### Plot results"
   ]
  },
  {
   "cell_type": "markdown",
   "metadata": {},
   "source": [
    "Enough boring interpolation, time to plot what you got so far."
   ]
  },
  {
   "cell_type": "markdown",
   "metadata": {},
   "source": [
    "* Create a grid of 4 subplots: one for the observations and 3 for the gridded data\n",
    "* Plot observations using `scatter()` function\n",
    "* Use `contourf()` or `pcolormesh()` to plot gridded data\n",
    "* For easier comparison, use the same colour limits in all 4 subplots\n",
    "* Attach a `colorbar` to each subplot, if you like\n",
    "* Set titles\n",
    "* Tweak/optimize the code as you want\n",
    "* Compare different interpolation methods"
   ]
  },
  {
   "cell_type": "code",
   "execution_count": 12,
   "metadata": {
    "collapsed": false
   },
   "outputs": [],
   "source": [
    "# fig, axs = plt.subplots(figsize=(15, 10), nrows=2, ncols=2)  # \n",
    "# print('2x2 subplot grid: {}'.format(axs.shape))\n",
    "# \n",
    "# h = axs[0, 0].scatter(lons[sub_idx], lats[sub_idx], c=temp[sub_idx],\n",
    "#                       edgecolors='none', vmin=..., vmax=...)\n",
    "# fig.colorbar(h, ax=axs[0, 0])\n",
    "# axs[0, 0].set_title('Observations')\n",
    "# \n",
    "#\n",
    "#\n",
    "# h = axs[0, 1].pcolormesh(lon2d, lat2d, temp_grd_lin,\n",
    "#                          vmin=..., vmax=...)\n",
    "# fig.colorbar(h, ax=axs[0, 1])\n",
    "# axs[0, 0].set_title('Linear')\n",
    "# \n",
    "#\n",
    "#\n",
    "# h = axs[1, 0] ... ( ... temp_grd_near)\n",
    "#\n",
    "# \n",
    "# axs[1, 0].set_title('Nearest')\n",
    "# \n",
    "#\n",
    "#\n",
    "# axs[1, 1].set_title('Cubic')"
   ]
  }
 ],
 "metadata": {
  "anaconda-cloud": {},
  "kernelspec": {
   "display_name": "Python [default]",
   "language": "python",
   "name": "python3"
  },
  "language_info": {
   "codemirror_mode": {
    "name": "ipython",
    "version": 3
   },
   "file_extension": ".py",
   "mimetype": "text/x-python",
   "name": "python",
   "nbconvert_exporter": "python",
   "pygments_lexer": "ipython3",
   "version": "3.5.2"
  }
 },
 "nbformat": 4,
 "nbformat_minor": 1
}
