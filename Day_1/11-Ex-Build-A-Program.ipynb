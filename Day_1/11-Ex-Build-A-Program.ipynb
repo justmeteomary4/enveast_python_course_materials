{
 "cells": [
  {
   "cell_type": "markdown",
   "metadata": {},
   "source": [
    "# Exercise: build a simple program (1 h)"
   ]
  },
  {
   "cell_type": "markdown",
   "metadata": {},
   "source": [
    "By doing this exercise you will apply Python basics that we learned today"
   ]
  },
  {
   "cell_type": "markdown",
   "metadata": {},
   "source": [
    "## Task"
   ]
  },
  {
   "cell_type": "markdown",
   "metadata": {},
   "source": [
    "* Write a program to calculate the Oxygen saturation for a whole range of Temperatures and Salinity using atmospheric Potential Temperature as the input value. \n",
    "* Atmospheric Pressure range: 996-998\n",
    "* Potential Temperature range: 15-17\n",
    "* Temp range: 6 - 9oC\n",
    "* Salinity range: 32 - 34\n",
    "* To do this, we first need to define two functions. \n",
    "    1) Potential Temperature used in the previous experiment\n",
    "    2) Oxygen saturation\n",
    "    4) We may need an if statement to only pass the temperatures within the range specified\n",
    "    3) We then need to pass the range of Potential Temperature values into the second function (O2.sat)\n",
    "    4) We may need an if statement to only carry\n",
    "    4) We then need a command to run our functions. The pythonic way is to add the below to bottom lines of our code:\n",
    "            if __name__ == \"__main__\":\n",
    "                main()\n",
    "            But first you need to define a function\n",
    "            def main(): \n",
    "                and put all of your other functions into it! \n",
    "(see http://stackoverflow.com/questions/4041238/why-use-def-main for explanation) \n",
    "\n",
    "    5) The script will then run any functions within the main() when it is called. "
   ]
  },
  {
   "cell_type": "markdown",
   "metadata": {
    "collapsed": true
   },
   "source": [
    "Below is the equation for calculating the Oxygen saturation in the ocean for different temperatures and salinity. \n",
    "From you previous function, you were able to make it output a single value of the O2.sat for a single temperature and salinity. \n",
    "\n",
    "Now, your task is to build a program that will output all values of O2.sat at temperatures within the range of 5 - 10 oC and Salinity values in the range of 30 - 35 (interval of 1)\n",
    "\n",
    "\n",
    "Hints and tips:\n",
    "\n",
    "    You are required to use two functions - one for potential temperature, and the second for O2.sat. \n",
    "    These functions need to be \"connected\" to one another. \n",
    "    The output of potential temperature needs to be the input for the O2.sat function.    \n",
    "    We need a loop so that we can create a selection of values. \n",
    "    The data then needs to be appended to a new array. \n",
    "    \n",
    "Rounding! \n",
    "You can use a smiple \n",
    "    round(temperature)\n",
    "But....this does not always work! \n",
    "A better option is to round to 2 decimal places:\n",
    "    print(\"%.2f\" % temperature) \n"
   ]
  },
  {
   "cell_type": "code",
   "execution_count": null,
   "metadata": {
    "collapsed": false
   },
   "outputs": [],
   "source": [
    "# Here is the python equation for Oxygen saturation in the ocean (Garcia and Gordon, 1992)\n",
    "# We need a library for this, but don't worry about it for now! \n",
    "import numpy as np\n",
    "\n",
    "# Somehow we have to turn the equation into a function we can use. \n",
    "#### O2 Saturation equation ####\n",
    "# Currently all these are just variables\n",
    "A0 = 2.00907\n",
    "A1 = 3.22014\n",
    "A2 = 4.05010\n",
    "A3 = 4.94457\n",
    "A4 = -0.256847\n",
    "A5 = 3.88767\n",
    "B0 = -0.00624523\n",
    "B1 = -0.00737614\n",
    "B2 = -0.0103410\n",
    "B3 = -0.00817083\n",
    "C0 = -4.88682*10 to the power of (-7)\n",
    "\n",
    "# The two lines below need input values for them to work. How are you going to 'pass' theese input values to them? \n",
    "Ts = np.log((298.15 - Temperature) / (273.15 + Temperature))\n",
    "O2 = A0 + (A1Ts) + (A2*Ts**2) + (A3 * Ts**3) + (A4 * Ts**4) + (A5 * Ts**5) + Salinity * (B0 + (B1 * Ts) + (B2 * Ts**2) + (B3 * Ts**3)) + (C0 * Salinity**2)\n",
    "\n",
    "\n",
    "def calc_theta(t, p, p0=1e5, r_d=287.04, c_p=1004.5):\n",
    "    \"\"\" Calculate air potential temperature \"\"\"\n",
    "    return t * (p0 / p) **(r_d / c_p)\n",
    "\n"
   ]
  },
  {
   "cell_type": "code",
   "execution_count": null,
   "metadata": {
    "collapsed": true
   },
   "outputs": [],
   "source": []
  },
  {
   "cell_type": "markdown",
   "metadata": {
    "collapsed": true
   },
   "source": [
    "# What we want to do is take the potential temperature of the atmosphere as an input, and pass it into the O2.saturation calculation. To do this, we need to use two functions. "
   ]
  },
  {
   "cell_type": "markdown",
   "metadata": {},
   "source": [
    "# Now we are going to see how the ocean heats up.\n",
    "\n",
    "# We want to calculate the heat flux from the atmosphere to the ocean, and investigate the impact of different wind speeds. "
   ]
  },
  {
   "cell_type": "code",
   "execution_count": null,
   "metadata": {
    "collapsed": true
   },
   "outputs": [],
   "source": [
    "# Heat flux to the ocean \n",
    "# Air density * Specific heat capacity * Transfer coefficient * Wind speed at 10m * (Temperature - Sea surface Temperature)\n",
    "#  1.2kg/m3   *          1004          *       1.2^10-3       *      ???          *  (17 oC  - Sea temperature)\n",
    "\n",
    "# Wind speed range: 8-10 m/s\n",
    "# Temperature has been taken as a maximum for the North Sea 17 oC \n",
    "# Sea surface temperature range: 6-9 oC\n",
    "\n",
    "p  = 1.2 \n",
    "Cp = 1004\n",
    "L  = 0.0012\n",
    "T1 = 17\n",
    " \n",
    "Q = p * Cp * L * wind_speed * (T1 - Sea surface Temperature)\n",
    "\n",
    "\n",
    "\n",
    "          ### Hint ###\n",
    "# This needs to be functionalised # "
   ]
  },
  {
   "cell_type": "markdown",
   "metadata": {},
   "source": [
    "# Questions "
   ]
  },
  {
   "cell_type": "markdown",
   "metadata": {},
   "source": [
    "How does wind effect the heat flux to the ocean?\n",
    "\n",
    "\n",
    "\n",
    "How do the different Sea Surface temperature values affect the heat flux?\n",
    "\n",
    "\n",
    "\n",
    "What is actually going on with the transfer of energy from the atmosphere to the ocean based on this basic program? \n",
    "\n",
    "\n"
   ]
  },
  {
   "cell_type": "markdown",
   "metadata": {},
   "source": [
    "\n",
    "Did you get something like this? \n"
   ]
  },
  {
   "cell_type": "markdown",
   "metadata": {},
   "source": [
    "\n",
    "\n",
    "# Can you now combine to the functions into a program and call it using: \n",
    "if __name__ == \"__main__\":\n",
    "    main()\n",
    "    \n",
    "    \n",
    "   ##### Hint ######\n",
    "   You'll need five functions in total. \n",
    "   2 equations\n",
    "   2 loops \n",
    "   1 program or main() function. \n",
    "\n"
   ]
  },
  {
   "cell_type": "code",
   "execution_count": null,
   "metadata": {
    "collapsed": false,
    "scrolled": true
   },
   "outputs": [],
   "source": [
    "import numpy as np\n",
    "\n",
    "#### Here we are setting the range of the values we want to investigate\n",
    "Temp_range = range(6,9)     # Temperature values\n",
    "Sal_range = range(0,36)    # Salinity values\n",
    "U10 = range(0,20)           # Wind speed at 10m \n",
    "\n",
    "    # # # # # # # # # # # # # # # # # # # # # # # # # # # # #\n",
    "    \n",
    "def o2_sat(Temp, Sal):\n",
    "    \"\"\" Calculate O2 saturation in the ocean \"\"\"\n",
    "    A0 = 2.00907\n",
    "    A1 = 3.22014\n",
    "    A2 = 4.05010\n",
    "    A3 = 4.94457\n",
    "    A4 = -0.256847\n",
    "    A5 = 3.88767\n",
    "    B0 = -0.00624523\n",
    "    B1 = -0.00737614\n",
    "    B2 = -0.0103410\n",
    "    B3 = -0.00817083\n",
    "    C0 = -4.88682*10e-7\n",
    "    \n",
    "# The two lines below need input values for them to work. How are you going to 'pass' theese input values to them? \n",
    "    Ts = np.log((298.15 - Temp) / (273.15 + Temp))\n",
    "    if Sal > 32:\n",
    "        O2 = A0 + (A1*Ts) + (A2*Ts**2) + (A3 * Ts**3) + (A4 * Ts**4) + (A5 * Ts**5) + Sal * (B0 + (B1 * Ts) + (B2 * Ts**2) + (B3 * Ts**3)) + (C0 * Sal**2)\n",
    "        print(\"%.3f\" % O2, \"uMol/l   SST = \", Temp, \"oC    Salinity = \", Sal)\n",
    "    else:\n",
    "        pass\n",
    "    \n",
    "    # # # # # # # # # # # # # # # # # # # # # # # # # # # # #\n",
    "\n",
    "def calc_heat_flux(U10, SST, p=1.2, Cp=1004, L=0.0012, T1=17):\n",
    "    \"\"\" Calculate air potential temperature \"\"\"\n",
    "    while 7 < U10 < 11:\n",
    "        heat_flux = round(p * Cp * L * U10 * (T1 - SST))\n",
    "        print(\"Heat flux = \", heat_flux, \"W/m2    U10 = \", U10, \"m/s      SST = \", SST, \"oC\")\n",
    "        return heat_flux\n",
    "\n",
    "    # # # # # # # # # # # # # # # # # # # # # # # # # # # # #\n",
    "\n",
    "## Lets define our first loop into the O2 saturation\n",
    "# Define function\n",
    "def O2_loop(Temp_range):  \n",
    "    \"\"\" Loop over different temperatures and calculate O2 saturation \"\"\"\n",
    "    print(\"Oxygen saturation equation\")\n",
    "    # loop over all values in temperature range\n",
    "    for i in Temp_range:\n",
    "        # loop over all values in salinity range\n",
    "        for x in Sal_range:\n",
    "            # calculate O2 saturation for each temp/salinity value \n",
    "            o2_sat(i, x)            \n",
    "        \n",
    "    # # # # # # # # # # # # # # # # # # # # # # # # # # # # #\n",
    "\n",
    "def heat_loop(Temp_range):\n",
    "    \"\"\" Loop over different temperatures and calculate heat flux of the ocean \"\"\"\n",
    "    print(\"Heat Flux equation\")\n",
    "    # loop over all values in temperature range\n",
    "    for i in Temp_range: \n",
    "        # loop over all values in U10(wind) range\n",
    "        for j in U10:\n",
    "            calc_heat_flux(j, i)\n",
    "\n",
    "    # # # # # # # # # # # # # # # # # # # # # # # # # # # # #\n",
    "\n",
    "def main():\n",
    "    \"\"\" Run the program with the desired temperature range \"\"\"\n",
    "    O2_loop(Temp_range)\n",
    "    print(\"\\n\")\n",
    "    heat_loop(Temp_range)\n",
    "            \n",
    "    # # # # # # # # # # # # # # # # # # # # # # # # # # # # #\n",
    "\n",
    "if __name__ == \"__main__\":\n",
    "    main()"
   ]
  },
  {
   "cell_type": "code",
   "execution_count": null,
   "metadata": {
    "collapsed": false,
    "scrolled": false
   },
   "outputs": [],
   "source": [
    "\n",
    "\n",
    "            "
   ]
  }
 ],
 "metadata": {
  "anaconda-cloud": {},
  "kernelspec": {
   "display_name": "Python [default]",
   "language": "python",
   "name": "python3"
  },
  "language_info": {
   "codemirror_mode": {
    "name": "ipython",
    "version": 3
   },
   "file_extension": ".py",
   "mimetype": "text/x-python",
   "name": "python",
   "nbconvert_exporter": "python",
   "pygments_lexer": "ipython3",
   "version": "3.5.2"
  }
 },
 "nbformat": 4,
 "nbformat_minor": 1
}
